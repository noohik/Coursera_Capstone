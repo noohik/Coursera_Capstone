{
 "cells": [
  {
   "cell_type": "markdown",
   "metadata": {},
   "source": [
    "# Capstone Project - The Battle of the Neighborhoods\n",
    "### Applied Data Science Capstone by IBM/Coursera"
   ]
  },
  {
   "cell_type": "markdown",
   "metadata": {},
   "source": [
    "### 1. Introduction: Business Problem"
   ]
  },
  {
   "cell_type": "markdown",
   "metadata": {},
   "source": [
    "In this project, I will try to find a candidate for real property investment in **Seoul**, the capital of South Korea. The target of this project is investors who want to find underestimated areas in Seoul.\n",
    "\n",
    "Seoul has **25 districts(\"gu\")** and **467 neighborhoods(\"dong\")**. To characterize each neighborhood, I will use the Foursquare location data. I will try to find a few neighborhoods those have similar characteristics of areas whose public land prices (KRW/square meter) are expensive, but the lands value is relatively cheap. There would be reasons why the land price of neighborhood is cheap, such as bad public transportation, no schools nearby, etc. But I assume that those kind of weak points would be overcome in the future.\n",
    "\n",
    "I will use data science methodology to find the best investment candidates. For example, I may be able to find some undervalued neighborhood which has very similar to Gangnam area.\n"
   ]
  },
  {
   "cell_type": "markdown",
   "metadata": {},
   "source": [
    "### 2. Data"
   ]
  },
  {
   "cell_type": "markdown",
   "metadata": {},
   "source": [
    "To solve the problem, I need following information.\n",
    "\n",
    "* Geospatial Coordinates of each neighborhood in Seoul\n",
    "* Average land price of each neighborhood in Seoul\n",
    "\n",
    "I can obtain information above from the website Seoul Metropolitan Government.\n",
    "\n",
    "* Geospatial coordination of neighborhoods in Seoul \n",
    "(http://data.seoul.go.kr/dataList/OA-13221/S/1/datasetView.do)   \n",
    "> The csv file contains **neighborhood'code(읍면동코드)** and **name(읍면동명)**, **latitudes(위도)** and **longitudes(경도)**.\n",
    "* Annual standard land price of Seoul \n",
    "(http://data.seoul.go.kr/dataList/OA-1180/F/1/datasetView.do)\n",
    "> The xls file contains **district's name(SIGUNGU_NM)** and **code(SGG_CD)** and **neighborhood's name(BJDONG_NAME)** and **code(BJDONG_CD)** and **standard price(JIGA)** of each address.   \n",
    "* Venues of each neighborhood of Seoul obtained via Foursquare API\n"
   ]
  },
  {
   "cell_type": "code",
   "execution_count": null,
   "metadata": {},
   "outputs": [],
   "source": []
  }
 ],
 "metadata": {
  "kernelspec": {
   "display_name": "Python 3",
   "language": "python",
   "name": "python3"
  },
  "language_info": {
   "codemirror_mode": {
    "name": "ipython",
    "version": 3
   },
   "file_extension": ".py",
   "mimetype": "text/x-python",
   "name": "python",
   "nbconvert_exporter": "python",
   "pygments_lexer": "ipython3",
   "version": "3.8.2"
  }
 },
 "nbformat": 4,
 "nbformat_minor": 4
}
